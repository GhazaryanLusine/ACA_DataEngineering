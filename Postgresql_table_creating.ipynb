{
 "cells": [
  {
   "cell_type": "code",
   "execution_count": 82,
   "id": "b77a139e",
   "metadata": {},
   "outputs": [],
   "source": [
    "import psycopg2\n",
    "conn = psycopg2.connect(host = hostname, dbname=database, user = username, password= pwd)"
   ]
  },
  {
   "cell_type": "code",
   "execution_count": 83,
   "id": "1b221837",
   "metadata": {},
   "outputs": [],
   "source": [
    "cur = conn.cursor()\n",
    "cur.execute(\"ROLLBACK\")\n",
    "conn.commit()"
   ]
  },
  {
   "cell_type": "code",
   "execution_count": null,
   "id": "47b9ff8d",
   "metadata": {},
   "outputs": [],
   "source": [
    "cur.execute(''' CREATE TABLE guest(\n",
    "          Guest_ID INTEGER PRIMARY KEY,\n",
    "          Guest_name VARCHAR(10) NOT NULL,\n",
    "          Guest_surname VARCHAR(20) NOT NULL,\n",
    "          Guest_email VARCHAR(35) NOT NULL,\n",
    "          Guest_gender VARCHAR(6) NOT NULL,\n",
    "          Guest_country VARCHAR(35) NOT NULL,\n",
    "          Guest_date_of_birth DATE NOT NULL\n",
    "        )\n",
    "      ''')\n"
   ]
  },
  {
   "cell_type": "code",
   "execution_count": 37,
   "id": "ddc887ac",
   "metadata": {},
   "outputs": [],
   "source": [
    "cur = conn.cursor()\n",
    "cur.execute(''' CREATE TABLE tour_agent(\n",
    "          Agent_id INT PRIMARY KEY,\n",
    "          Agent_name VARCHAR(25) NOT NULL,\n",
    "          Agent_email VARCHAR(35) NOT NULL,\n",
    "          Agent_phone VARCHAR(15) NOT NULL      \n",
    "        )\n",
    "      ''')\n",
    "conn.commit()"
   ]
  },
  {
   "cell_type": "code",
   "execution_count": null,
   "id": "db12a399",
   "metadata": {},
   "outputs": [],
   "source": [
    "cur.execute(''' CREATE TABLE hotels(\n",
    "          Hotel_id VARCHAR(5) PRIMARY KEY,\n",
    "          Hotel_name VARCHAR(25) NOT NULL,\n",
    "          Hotel_star INT NOT NULL,\n",
    "          Hotel_country VARCHAR(5) NOT NULL      \n",
    "        )\n",
    "      ''')\n",
    "conn.commit()"
   ]
  },
  {
   "cell_type": "code",
   "execution_count": null,
   "id": "3e8f3191",
   "metadata": {},
   "outputs": [],
   "source": [
    "cur = conn.cursor()\n",
    "cur.execute(''' CREATE TABLE country(\n",
    "          Country_name VARCHAR(25) PRIMARY KEY,\n",
    "          Country_code VARCHAR(5) NOT NULL\n",
    "           \n",
    "        )\n",
    "      ''')\n",
    "conn.commit()"
   ]
  },
  {
   "cell_type": "code",
   "execution_count": 58,
   "id": "ca165b39",
   "metadata": {},
   "outputs": [],
   "source": [
    "cur.execute(''' CREATE TABLE Restaurants(\n",
    "          Restaurant_id VARCHAR(5) PRIMARY KEY,\n",
    "          Name VARCHAR(50) NOT NULL,\n",
    "          Cuisine_Style VARCHAR(150),\n",
    "          Rating FLOAT NOT NULL      \n",
    "        )\n",
    "      ''')\n",
    "conn.commit()"
   ]
  },
  {
   "cell_type": "code",
   "execution_count": 62,
   "id": "a4ea6eac",
   "metadata": {},
   "outputs": [],
   "source": [
    "cur.execute(''' CREATE TABLE Cars(\n",
    "          Cars_id VARCHAR(5) PRIMARY KEY,\n",
    "          Car_make VARCHAR(15) NOT NULL,\n",
    "          Car_model VARCHAR(25) NOT NULL\n",
    "        )\n",
    "      ''')\n",
    "conn.commit()"
   ]
  },
  {
   "cell_type": "code",
   "execution_count": 65,
   "id": "197648b7",
   "metadata": {},
   "outputs": [],
   "source": [
    "cur.execute(''' CREATE TABLE Tours(\n",
    "          Tour_id VARCHAR(5) PRIMARY KEY,\n",
    "          name VARCHAR(120) NOT NULL,\n",
    "          Tour_price VARCHAR(10) NOT NULL,\n",
    "          Rating FLOAT NOT NULL\n",
    "        )\n",
    "      ''')\n",
    "conn.commit()"
   ]
  },
  {
   "cell_type": "code",
   "execution_count": 68,
   "id": "8edfed49",
   "metadata": {},
   "outputs": [],
   "source": [
    "cur.execute(''' CREATE TABLE Room_types(\n",
    "          Roomtype_id VARCHAR(5) PRIMARY KEY,\n",
    "          Roomtype VARCHAR(20) NOT NULL,\n",
    "          RT_Desc VARCHAR(220) NOT NULL\n",
    "        )\n",
    "      ''')\n",
    "conn.commit()"
   ]
  },
  {
   "cell_type": "code",
   "execution_count": 78,
   "id": "bbd36875",
   "metadata": {},
   "outputs": [],
   "source": [
    "cur.execute(''' CREATE TABLE Rooms(\n",
    "          Room_id VARCHAR(5) PRIMARY KEY,\n",
    "          Hotel_id VARCHAR(5) NOT NULL,\n",
    "          Room_typeid VARCHAR(5) NOT NULL,\n",
    "          Room_number INT NOT NULL,\n",
    "          Smoking_YN VARCHAR(5) NOT NULL,\n",
    "          FOREIGN KEY (Hotel_id)\n",
    "          REFERENCES hotels (Hotel_id),\n",
    "          FOREIGN KEY (Room_typeid)\n",
    "          REFERENCES room_types (Roomtype_id)\n",
    "        )\n",
    "      ''')\n",
    "conn.commit()"
   ]
  },
  {
   "cell_type": "code",
   "execution_count": null,
   "id": "86e6fb2d",
   "metadata": {},
   "outputs": [],
   "source": [
    "with open('data_guest.csv', 'r') as f:\n",
    "    next(f) \n",
    "    cur.copy_from(f, 'guest', sep=',')"
   ]
  },
  {
   "cell_type": "code",
   "execution_count": 85,
   "id": "aace88a4",
   "metadata": {},
   "outputs": [],
   "source": [
    "with open('tour_agent.csv', 'r') as f:\n",
    "    next(f) \n",
    "    cur.copy_from(f, 'tour_agent', sep=',')"
   ]
  },
  {
   "cell_type": "code",
   "execution_count": null,
   "id": "f8a4cfdd",
   "metadata": {},
   "outputs": [],
   "source": [
    "with open('Final_Hotel.csv', 'r') as f:\n",
    "    next(f) \n",
    "    cur.copy_from(f, 'hotels', sep=',')"
   ]
  },
  {
   "cell_type": "code",
   "execution_count": null,
   "id": "76ee34e8",
   "metadata": {},
   "outputs": [],
   "source": []
  }
 ],
 "metadata": {
  "kernelspec": {
   "display_name": "Python 3",
   "language": "python",
   "name": "python3"
  },
  "language_info": {
   "codemirror_mode": {
    "name": "ipython",
    "version": 3
   },
   "file_extension": ".py",
   "mimetype": "text/x-python",
   "name": "python",
   "nbconvert_exporter": "python",
   "pygments_lexer": "ipython3",
   "version": "3.8.8"
  }
 },
 "nbformat": 4,
 "nbformat_minor": 5
}
